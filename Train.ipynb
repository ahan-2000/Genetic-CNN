{
 "cells": [
  {
   "cell_type": "code",
   "execution_count": 1,
   "metadata": {},
   "outputs": [],
   "source": [
    "#export\n",
    "import logging\n",
    "import pandas as pd\n",
    "import numpy as np\n",
    "import torch\n",
    "import torch.optim as optim\n",
    "import torch.nn as nn\n",
    "import torch.nn.functional as F\n",
    "from torchvision import transforms , utils\n",
    "from torch.utils.data import Dataset , DataLoader\n",
    "import time\n",
    "from src import DenseNet\n",
    "torch.set_default_tensor_type('torch.cuda.FloatTensor')"
   ]
  },
  {
   "cell_type": "code",
   "execution_count": 3,
   "metadata": {},
   "outputs": [],
   "source": [
    "#export\n",
    "def train_and_validate(model,\n",
    "          epochs,\n",
    "          lr,\n",
    "          weight_decay,\n",
    "          trainloader,\n",
    "          validloader,\n",
    "          criterion):\n",
    "    \n",
    "    best_loss = 999999\n",
    "    start = time.time()\n",
    "    \n",
    "    for epoch in range(1,epochs+1):\n",
    "        # setting : train\n",
    "        model.train()\n",
    "        running_loss = 0.0\n",
    "        total_done = 0\n",
    "        print(f'Epoch {epoch}')\n",
    "        optimizer = optim.Adam(filter(lambda p: p.requires_grad,\n",
    "                                      model.parameters()),\n",
    "                               lr = lr,\n",
    "                               weight_decay = weight_decay)\n",
    "        print('-'*50)\n",
    "        for i , (inputs,labels) in enumerate(trainloader):\n",
    "            batch_size = inputs.shape[0]\n",
    "            inputs , labels =  inputs.cuda(), labels.cuda()\n",
    "            outputs = model(inputs)\n",
    "            loss = criterion(outputs,labels)\n",
    "            optimizer.zero_grad()\n",
    "            loss.backward()\n",
    "            optimizer.step()\n",
    "            running_loss += loss.item() * batch_size\n",
    "            print(f'Batch: {i+1/batch_size}')\n",
    "        epoch_loss = running_loss / len(trainloader.dataset)\n",
    "        print(f'epoch_train_loss: {\".4f\"%epoch_loss }')\n",
    "        # Learning rate decay\n",
    "        if epoch % 30 == 0:\n",
    "            print(f'Learning rate changed from {lr} to {lr/10}')\n",
    "            lr = lr/10\n",
    "            optimizer = optim.Adam(filter(lambda p: p.requires_grad,\n",
    "                                          model.parameters()),\n",
    "                                   lr = lr,\n",
    "                                   weight_decay = weight_decay)\n",
    "        # setting : valid\n",
    "        valid_loss = 0\n",
    "        model.eval()\n",
    "        for i , (inputs,labels) in enumerate(validloader):\n",
    "            outputs = model(inputs)\n",
    "            loss = criterion(outputs,labels)\n",
    "            batch_size = inputs.shape[0]\n",
    "            valid_loss += loss.item() * batch_size \n",
    "        print(f'valid_loss : {valid_loss /len(validloader.dataset)}, Accuracy: {(torch.argmax(outputs,-1)==labels).sum().item()}')\n",
    "        print('-'*50)\n",
    "        if valid_loss < best_loss:\n",
    "            best_loss = valid_loss\n",
    "            best_epoch = epoch\n",
    "            print('Saving...')\n",
    "            state = {\n",
    "                'model' : model,\n",
    "                'best_loss': best_loss,\n",
    "                'epoch' : epoch,\n",
    "                'rng_state' : torch.get_rng_state(),\n",
    "                'lr' : lr\n",
    "            }\n",
    "            torch.save(state , 'results/checkpoint')\n",
    "            \n",
    "    end = time.time()\n",
    "    elapsed = end - start\n",
    "    print(f'Time Elapsed : {elapsed}')\n",
    "    total_done += batch_size\n",
    "    best_state = torch.load('results/checkpoint')\n",
    "    model = best_state['model']\n",
    "        \n",
    "    return model , best_epoch , valid_loss "
   ]
  },
  {
   "cell_type": "code",
   "execution_count": 4,
   "metadata": {},
   "outputs": [
    {
     "ename": "SyntaxError",
     "evalue": "invalid syntax (<ipython-input-4-9988fff06b20>, line 10)",
     "output_type": "error",
     "traceback": [
      "\u001b[1;36m  File \u001b[1;32m\"<ipython-input-4-9988fff06b20>\"\u001b[1;36m, line \u001b[1;32m10\u001b[0m\n\u001b[1;33m    return_preds=False):\u001b[0m\n\u001b[1;37m               ^\u001b[0m\n\u001b[1;31mSyntaxError\u001b[0m\u001b[1;31m:\u001b[0m invalid syntax\n"
     ]
    }
   ],
   "source": [
    "#export\n",
    "def learner(train_loader,\n",
    "            val_loader,\n",
    "            lr,\n",
    "            weight_decay,\n",
    "            incl_layers,\n",
    "            freeze_layers,\n",
    "            drop_rate,\n",
    "            epochs,\n",
    "            return_preds=False):\n",
    "    \n",
    "    if not torch.cuda.is_available():\n",
    "        gpu = True\n",
    "        raise ValueError('GPU is necessary!')\n",
    "        \n",
    "    print(f'Learning rate : {lr}')\n",
    "    print(f'Drop rate : {drop_rate}')\n",
    "    print(f'Included Layers in the blocks: {inc_layers}')\n",
    "    \n",
    "    model = DenseNet.densenet121(pretrained=True,num_layers=incl_layers,drop_rate=drop_rate)\n",
    "    \n",
    "    print(f'Freezed layers in the blocks : {freeze_layers}') \n",
    "    \n",
    "    if freeze_layers > 42:\n",
    "        freeze_trans = 3 \n",
    "    elif freeze_layers > 18:\n",
    "        freeze_trans = 2\n",
    "    elif freeze_layers > 6:\n",
    "        freeze_trans = 1\n",
    "    elif freeze_layers >=0:\n",
    "        freeze_trans = 0\n",
    "    \n",
    "    i = 0\n",
    "    freeze_count = 0\n",
    "    # FOR EACH DENSE LAYER (6 parameter tensors)\n",
    "    # norm1.w , norm1.b , conv1.w , norm2.w , norm2.b ,conv2.w\n",
    "    freeze_count += freeze_layers * 6\n",
    "    # FOR EACH TRANSITION LAYER (3 parameter tensors)\n",
    "    # norm.w , norm.b , conv.w\n",
    "    freeze_count += freeze_trans * 3\n",
    "    # FOR FIRST CONV LAYER (3 parameter tensors)\n",
    "    # conv0.w , norm0.w , norm0.b\n",
    "    if freeze_count > 0:\n",
    "        freeze_count += 3\n",
    "    print(f'Freeze count {freeze_count}')\n",
    "    for name , param in model.named_parameters():\n",
    "        if i < freeze_count:\n",
    "            if 'sEBlock' in name:\n",
    "                print(f'Passing Over {name}')\n",
    "            else:\n",
    "                param.requires_grad = False\n",
    "                i += 1\n",
    "    \n",
    "    criterion = nn.CrossEntropyLoss()    \n",
    "    model , best_epoch , valid_loss = train_and_validate(model,\n",
    "                                                         epochs,\n",
    "                                                         lr,\n",
    "                                                         weight_decay,\n",
    "                                                         trainloader,\n",
    "                                                         validloader,\n",
    "                                                         criterion)\n",
    "    if return_preds:\n",
    "        for inputs , labels in validloader:\n",
    "            outputs = model(inputs)\n",
    "            preds = torch.argmax(outputs,-1)\n",
    "            return valid_loss , preds\n",
    "    else:\n",
    "        return valid_loss"
   ]
  },
  {
   "cell_type": "code",
   "execution_count": 5,
   "metadata": {},
   "outputs": [
    {
     "name": "stdout",
     "output_type": "stream",
     "text": [
      "Converted Train.ipynb to src\\Train.py\n"
     ]
    }
   ],
   "source": [
    "!python notebook2script.py Train.ipynb"
   ]
  },
  {
   "cell_type": "code",
   "execution_count": 2,
   "metadata": {},
   "outputs": [],
   "source": [
    "torch.set_default_tensor_type??"
   ]
  },
  {
   "cell_type": "code",
   "execution_count": null,
   "metadata": {},
   "outputs": [],
   "source": []
  },
  {
   "cell_type": "code",
   "execution_count": null,
   "metadata": {},
   "outputs": [],
   "source": []
  },
  {
   "cell_type": "code",
   "execution_count": null,
   "metadata": {},
   "outputs": [],
   "source": []
  },
  {
   "cell_type": "code",
   "execution_count": null,
   "metadata": {},
   "outputs": [],
   "source": []
  },
  {
   "cell_type": "code",
   "execution_count": null,
   "metadata": {},
   "outputs": [],
   "source": []
  },
  {
   "cell_type": "code",
   "execution_count": null,
   "metadata": {},
   "outputs": [],
   "source": []
  },
  {
   "cell_type": "code",
   "execution_count": null,
   "metadata": {},
   "outputs": [],
   "source": []
  },
  {
   "cell_type": "code",
   "execution_count": null,
   "metadata": {},
   "outputs": [],
   "source": []
  }
 ],
 "metadata": {
  "kernelspec": {
   "display_name": "Python 3",
   "language": "python",
   "name": "python3"
  },
  "language_info": {
   "codemirror_mode": {
    "name": "ipython",
    "version": 3
   },
   "file_extension": ".py",
   "mimetype": "text/x-python",
   "name": "python",
   "nbconvert_exporter": "python",
   "pygments_lexer": "ipython3",
   "version": "3.7.3"
  }
 },
 "nbformat": 4,
 "nbformat_minor": 4
}
